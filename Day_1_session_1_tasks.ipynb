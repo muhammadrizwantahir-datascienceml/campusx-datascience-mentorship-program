{
  "nbformat": 4,
  "nbformat_minor": 0,
  "metadata": {
    "colab": {
      "provenance": [],
      "include_colab_link": true
    },
    "kernelspec": {
      "name": "python3",
      "display_name": "Python 3"
    },
    "language_info": {
      "name": "python"
    }
  },
  "cells": [
    {
      "cell_type": "markdown",
      "metadata": {
        "id": "view-in-github",
        "colab_type": "text"
      },
      "source": [
        "<a href=\"https://colab.research.google.com/github/muhammadrizwantahir-datascienceml/campusx-datascience-mentorship-program/blob/main/Day_1_session_1_tasks.ipynb\" target=\"_parent\"><img src=\"https://colab.research.google.com/assets/colab-badge.svg\" alt=\"Open In Colab\"/></a>"
      ]
    },
    {
      "cell_type": "markdown",
      "source": [
        "# Task : Session 1\n",
        "\n",
        "#Solved by Muhammad Rizwan Tahir\n",
        "\n",
        "Solve these questions own your own and try to test yourself what you have learned in the session.\n",
        "\n",
        "Happy Learning!"
      ],
      "metadata": {
        "id": "A05OG15VqOPF"
      }
    },
    {
      "cell_type": "markdown",
      "source": [
        "### Q1 :- Print the given strings as per stated format.\n",
        "\n",
        "**Given strings**:\n",
        "```\n",
        "\"Data\" \"Science\" \"Mentorship\" \"Program\"\n",
        "\"By\" \"CampusX\"\n",
        "```\n",
        "**Output**:\n",
        "```\n",
        "Data-Science-Mentorship-Program-started-By-CampusX\n",
        "```\n",
        "\n",
        "Concept- [Seperator and End]"
      ],
      "metadata": {
        "id": "2doIXf8bqe9_"
      }
    },
    {
      "cell_type": "code",
      "source": [
        "# Lets print them as per the required output using the Sep and End\n",
        "print(\"Data\", \"Science\", \"Mentorship\", \"Program\", sep='-', end='-' )\n",
        "print(\"By\", \"CampusX\", sep='-')"
      ],
      "metadata": {
        "id": "-em6d3KErDtp",
        "colab": {
          "base_uri": "https://localhost:8080/"
        },
        "outputId": "58bb98d8-05ef-4c8e-89be-dc5d47264194"
      },
      "execution_count": 5,
      "outputs": [
        {
          "output_type": "stream",
          "name": "stdout",
          "text": [
            "Data-Science-Mentorship-Program-By-CampusX\n"
          ]
        }
      ]
    },
    {
      "cell_type": "markdown",
      "source": [
        "### Q2:- Write a program that will convert celsius value to fahrenheit."
      ],
      "metadata": {
        "id": "1KUpN7ZTrC3_"
      }
    },
    {
      "cell_type": "code",
      "source": [
        "# Write your code here\n",
        "\n",
        "#Lets first take an input from the user in Celcius\n",
        "utemp = float(input('Please write temperature in Celcius: ')) #Variable in Python always saves as String, so we need to change it to Float\n",
        "#Convert it into Fah\n",
        "conf = utemp * 9/5 + 32\n",
        "#Print it out\n",
        "print (\"Temperature in Fahrenheit is: \", conf)"
      ],
      "metadata": {
        "id": "yxKYhYQiqWfj",
        "colab": {
          "base_uri": "https://localhost:8080/"
        },
        "outputId": "29489ad7-0510-43ae-d049-1b117e8c435d"
      },
      "execution_count": 15,
      "outputs": [
        {
          "output_type": "stream",
          "name": "stdout",
          "text": [
            "Please write temperature in Celcius: 32\n",
            "Temperature in Fahrenheit is:  89.6\n"
          ]
        }
      ]
    },
    {
      "cell_type": "markdown",
      "source": [
        "### Q3:- Take 2 numbers as input from the user.Write a program to swap the numbers without using any special python syntax."
      ],
      "metadata": {
        "id": "RLrOBBJurLB2"
      }
    },
    {
      "cell_type": "code",
      "source": [
        "# Write your code here\n",
        "num1 = float(input(\"Please enter the first number: \" ))\n",
        "num2 = float(input(\"Please enter the second number: \" ))\n",
        "\n",
        "num1, num2 = num2, num1 #swapping\n",
        "\n",
        "print(\"Here are the swaped numbers: \", num1, num2)"
      ],
      "metadata": {
        "id": "yPn7if0TrJ4F",
        "colab": {
          "base_uri": "https://localhost:8080/"
        },
        "outputId": "0a228d67-8381-43a2-9114-89cf5c722a6b"
      },
      "execution_count": 19,
      "outputs": [
        {
          "output_type": "stream",
          "name": "stdout",
          "text": [
            "Please enter the first number: 12\n",
            "Please enter the second number: 21\n",
            "Here are the swaped numbers:  21.0 12.0\n"
          ]
        }
      ]
    },
    {
      "cell_type": "markdown",
      "source": [
        "### Q4:- Write a program to find the euclidean distance between two coordinates.Take both the coordinates from the user as input."
      ],
      "metadata": {
        "id": "waLCP1bjr7ML"
      }
    },
    {
      "cell_type": "code",
      "source": [
        "# Write your code here\n",
        "import math\n",
        "\n",
        "#First we need to take the both the coordinates\n",
        "x1 = float(input(\"Enter x-coor of point P1: \"))\n",
        "y1 = float(input(\"Enter y-coor of point P1: \"))\n",
        "x2 = float(input(\"Enter x-coor of point P2: \"))\n",
        "y2 = float(input(\"Enter y-coor of point P2: \"))\n",
        "\n",
        "print (\"Here is the P1 point: \", x1, y1)\n",
        "print (\"Here is the P2 point: \", x2, y2)\n",
        "\n",
        "#We need to find the Euclidean distance using  sqrt{(x2-x1)^{2} + (y2-y1)^{2}}\n",
        "dis = math.sqrt((x2 - x1) ** 2 + (y2 - y1) ** 2)\n",
        "\n",
        "#Printing of the distance\n",
        "print(\"the Euclidean distance between\", [x1, x2], \"and\", [x2, y2], \"is: \", dis)"
      ],
      "metadata": {
        "id": "Pl1Sv-xnrxnH",
        "colab": {
          "base_uri": "https://localhost:8080/"
        },
        "outputId": "740bcb59-a9c3-4676-e9c3-2b2a3552974f"
      },
      "execution_count": 23,
      "outputs": [
        {
          "output_type": "stream",
          "name": "stdout",
          "text": [
            "Enter x-coor of point P1: 12\n",
            "Enter y-coor of point P1: 13\n",
            "Enter x-coor of point P2: 14\n",
            "Enter y-coor of point P2: 15\n",
            "Here is the P1 point:  12.0 13.0\n",
            "Here is the P2 point:  14.0 15.0\n",
            "the Euclidean distance between [12.0, 14.0] and [14.0, 15.0] is:  2.8284271247461903\n"
          ]
        }
      ]
    },
    {
      "cell_type": "markdown",
      "source": [
        "### Q5:- Write a program to find the simple interest when the value of principle,rate of interest and time period is provided by the user.\n"
      ],
      "metadata": {
        "id": "VLrhg-FRsHjR"
      }
    },
    {
      "cell_type": "code",
      "source": [
        "# SImple interest is: si=principal*rate*time / 100\n",
        "#so we need to ask p,r and t from the users\n",
        "pr=float(input(\"What's the principal: \"))\n",
        "ra=float(input(\"What's the rate: \"))\n",
        "ti=float(input(\"What's the time: \"))\n",
        "#calculations\n",
        "si=pr*ra*ti / 100\n",
        "#printing\n",
        "print(\"Simple interest for your entered values is: \", si)\n",
        "\n"
      ],
      "metadata": {
        "id": "s40DlReZsTmY",
        "colab": {
          "base_uri": "https://localhost:8080/"
        },
        "outputId": "660dda09-bc1a-4ed9-d507-5a90e240a684"
      },
      "execution_count": 27,
      "outputs": [
        {
          "output_type": "stream",
          "name": "stdout",
          "text": [
            "What's the principal: 10000\n",
            "What's the rate: 10\n",
            "What's the time: 12\n",
            "Simple interest for your entered values is:  12000.0\n"
          ]
        }
      ]
    },
    {
      "cell_type": "markdown",
      "source": [
        "### Q6:- Write a program that will tell the number of dogs and chicken are there when the user will provide the value of total heads and legs.\n",
        "\n",
        "For example:\n",
        "Input:\n",
        "heads -> 4\n",
        "legs -> 12\n",
        "<br>\n",
        "Output:\n",
        "dogs -> 2\n",
        "chicken -> 2\n",
        "\n",
        "\n",
        "\n"
      ],
      "metadata": {
        "id": "LMy0BTUktYKa"
      }
    },
    {
      "cell_type": "code",
      "source": [
        "# As for heads and legs\n",
        "inp_heads = int(input(\"Please enter heads: \"))\n",
        "inp_legs = int(input(\"Please enter legs: \"))\n",
        "#assumptions\n",
        "chick_legs = 2\n",
        "dog_legs = 4\n",
        "#Total chicken legs\n",
        "total_chick_legs = inp_legs - (inp_heads * dog_legs)\n",
        "#number of chickens\n",
        "total_chick = total_chick_legs // (chick_legs - dog_legs) #floor division\n",
        "#number of dogs\n",
        "total_dogs = inp_heads - total_chick\n",
        "#printing\n",
        "print (\"number of chickens are: \", total_chick, \"number of dogs are: \", total_dogs)"
      ],
      "metadata": {
        "id": "XSBvJoA4tXaG",
        "colab": {
          "base_uri": "https://localhost:8080/"
        },
        "outputId": "d896356d-ae66-4959-a9af-243bdf55ac0c"
      },
      "execution_count": 30,
      "outputs": [
        {
          "output_type": "stream",
          "name": "stdout",
          "text": [
            "Please enter heads: 10\n",
            "Please enter legs: 24\n",
            "number of chickens are:  8 number of dogs are:  2\n"
          ]
        }
      ]
    },
    {
      "cell_type": "markdown",
      "source": [
        "### Q7:- Write a program to find the sum of squares of first n natural numbers where n will be provided by the user."
      ],
      "metadata": {
        "id": "gJ7C5kZYt4BP"
      }
    },
    {
      "cell_type": "code",
      "source": [
        "# Lets take an input from the user\n",
        "n_number = int(input(\"How many numbers do you want to make squares of: \"))\n",
        "# calculations\n",
        "sq = n_number * n_number+1 * n_number+2 // 6\n",
        "#printing\n",
        "print(sq, \"is the square of your\", n_number, \"number\")"
      ],
      "metadata": {
        "id": "_tHsmEHzt2nX",
        "colab": {
          "base_uri": "https://localhost:8080/"
        },
        "outputId": "e1c220f7-e283-4989-ad90-2d6992704c2f"
      },
      "execution_count": 31,
      "outputs": [
        {
          "output_type": "stream",
          "name": "stdout",
          "text": [
            "How many numbers do you want to make squares of: 3\n",
            "12 is the square of your 3 number\n"
          ]
        }
      ]
    },
    {
      "cell_type": "markdown",
      "source": [
        "### Q8:- Given the first 2 terms of an Arithmetic Series.Find the Nth term of the series. Assume all inputs are provided by the user."
      ],
      "metadata": {
        "id": "FHrMM7g-yG1h"
      }
    },
    {
      "cell_type": "code",
      "source": [
        "first = float(input(\"What is the first term: \"))\n",
        "second = float(input(\"What is the second term: \"))\n",
        "n = int(input(\"N terms: \"))\n",
        "\n",
        "#Formula nth_term = first + (n - 1) * common_difference\n",
        "#we dont know common difference, however, it can be found by subtracting the second and first term\n",
        "common_difference = second - first\n",
        "\n",
        "nth_term = first + (n - 1) * common_difference\n",
        "\n",
        "print (\"The nth term is: \", nth_term)\n"
      ],
      "metadata": {
        "id": "go4_kmZmyVSx",
        "colab": {
          "base_uri": "https://localhost:8080/"
        },
        "outputId": "10f7b754-a9e3-44c6-e2ac-ba51188bd8be"
      },
      "execution_count": 32,
      "outputs": [
        {
          "output_type": "stream",
          "name": "stdout",
          "text": [
            "What is the first term: 12\n",
            "What is the second term: 16\n",
            "N terms: 8\n",
            "The nth term is:  40.0\n"
          ]
        }
      ]
    },
    {
      "cell_type": "markdown",
      "source": [
        "### Q9:- Given 2 fractions, find the sum of those 2 fractions.Take the numerator and denominator values of the fractions from the user."
      ],
      "metadata": {
        "id": "QgyRX_es1oum"
      }
    },
    {
      "cell_type": "code",
      "source": [
        "from fractions import Fraction\n",
        "\n",
        "num_1 = int(input(\"What is the numerator of first fraction: \"))\n",
        "den_1= int(input(\"What is the denominator of first fraction: \"))\n",
        "\n",
        "num_2= int(input(\"What is the numerator of second fraction: \"))\n",
        "den_2= int(input(\"What is the denominator of second fraction: \"))\n",
        "\n",
        "frac_1 = Fraction(num_1, den_1)\n",
        "frac_2 = Fraction(num_2, den_2)\n",
        "sum_frac = frac_1 + frac_2\n",
        "\n",
        "print(\"Here is the sun of the entered fractions: \", sum_frac)"
      ],
      "metadata": {
        "id": "X05xqFS1yW16",
        "colab": {
          "base_uri": "https://localhost:8080/"
        },
        "outputId": "6035e586-0e57-4a2e-8fd2-0a3ce2f2b743"
      },
      "execution_count": 37,
      "outputs": [
        {
          "output_type": "stream",
          "name": "stdout",
          "text": [
            "What is the numerator of first fraction: 2\n",
            "What is the denominator of first fraction: 2\n",
            "What is the numerator of second fraction: 4\n",
            "What is the denominator of second fraction: 3\n",
            "Here is the sun of the entered fractions:  7/3\n"
          ]
        }
      ]
    },
    {
      "cell_type": "markdown",
      "source": [
        "### Q10:- Given the height, width and breadth of a milk tank, you have to find out how many glasses of milk can be obtained? Assume all the inputs are provided by the user.\n",
        "\n",
        "\n",
        "\n",
        "Input:<br>\n",
        "Dimensions of the milk tank<br>\n",
        "H = 20cm, L = 20cm, B = 20cm\n",
        "<br><br>\n",
        "Dimensions of the glass<br>\n",
        "h = 3cm, r = 1cm"
      ],
      "metadata": {
        "id": "eaql38ln13u7"
      }
    },
    {
      "cell_type": "code",
      "source": [
        "h_t = int(input(\"Whats the tank height: \"))\n",
        "l_t = int(input(\"Whats the tank length: \"))\n",
        "b_t = int(input(\"Whats the tank breadth: \"))\n",
        "\n",
        "g_h = int(input(\"Whats the glass height: \"))\n",
        "g_r = int(input(\"Whats the glass radius: \"))\n",
        "\n",
        "vol_t = h_t * l_t * b_t\n",
        "vol_gl = (22/7) * (g_r**2) * g_h\n",
        "\n",
        "num_glasses = vol_t / vol_gl\n",
        "\n",
        "print (\"The number of glasses are: \", num_glasses)\n"
      ],
      "metadata": {
        "id": "FePZqno74eWv",
        "colab": {
          "base_uri": "https://localhost:8080/"
        },
        "outputId": "744daa17-8fa1-4c38-d6bd-08f1f5b11242"
      },
      "execution_count": 38,
      "outputs": [
        {
          "output_type": "stream",
          "name": "stdout",
          "text": [
            "Whats the tank height: 20\n",
            "Whats the tank length: 20\n",
            "Whats the tank breadth: 20\n",
            "Whats the glass height: 3\n",
            "Whats the glass radius: 1\n",
            "The number of glasses are:  848.4848484848485\n"
          ]
        }
      ]
    }
  ]
}